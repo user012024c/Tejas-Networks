{
  "cells": [
    {
      "cell_type": "markdown",
      "id": "cd1d1778",
      "metadata": {
        "id": "cd1d1778"
      },
      "source": [
        "\n",
        "# Statistics Functions Demonstration\n",
        "\n",
        "This notebook demonstrates various functions from the `statistics` module in Python. Each cell contains a function with a detailed description and example usage.\n"
      ]
    },
    {
      "cell_type": "code",
      "execution_count": null,
      "id": "81058f0e",
      "metadata": {
        "id": "81058f0e"
      },
      "outputs": [],
      "source": [
        "\n",
        "import statistics\n",
        "import numpy as np\n",
        "import pandas as pd\n",
        "\n",
        "# Prepare data for demonstration\n",
        "data = [2, 3, 4, 5, 6, 7, 8, 9, 10, 11]\n",
        "data_with_duplicates = [2, 2, 3, 4, 5, 5, 6, 7, 8, 8, 8, 9, 10, 11, 11]\n",
        "data_with_negatives = [2, -3, 4, -5, 6, -7, 8, -9, 10, -11]\n"
      ]
    },
    {
      "cell_type": "code",
      "source": [
        "statistics.Fraction(4, 4)"
      ],
      "metadata": {
        "colab": {
          "base_uri": "https://localhost:8080/"
        },
        "id": "6IejT_NcpNQh",
        "outputId": "6e813c72-2d15-4564-bc96-b91ca1ce27b9"
      },
      "id": "6IejT_NcpNQh",
      "execution_count": null,
      "outputs": [
        {
          "output_type": "execute_result",
          "data": {
            "text/plain": [
              "Fraction(1, 1)"
            ]
          },
          "metadata": {},
          "execution_count": 22
        }
      ]
    },
    {
      "cell_type": "code",
      "execution_count": null,
      "id": "b1bf1451",
      "metadata": {
        "colab": {
          "base_uri": "https://localhost:8080/"
        },
        "id": "b1bf1451",
        "outputId": "e70bd517-1572-4bb0-f6e4-d017dce25d4f"
      },
      "outputs": [
        {
          "output_type": "stream",
          "name": "stdout",
          "text": [
            "Mean: 6.5\n"
          ]
        }
      ],
      "source": [
        "\n",
        "# 1. Mean\n",
        "# The mean() function calculates the arithmetic mean (average) of data.\n",
        "# The arithmetic mean is the sum of the data divided by the number of data points.\n",
        "\n",
        "mean_value = statistics.mean(data)\n",
        "print(f\"Mean: {mean_value}\")\n"
      ]
    },
    {
      "cell_type": "code",
      "execution_count": null,
      "id": "6c84c6d9",
      "metadata": {
        "colab": {
          "base_uri": "https://localhost:8080/"
        },
        "id": "6c84c6d9",
        "outputId": "63f0009c-ca43-418b-cd2f-11f46ed92af9"
      },
      "outputs": [
        {
          "output_type": "stream",
          "name": "stdout",
          "text": [
            "Median: 6.5\n"
          ]
        }
      ],
      "source": [
        "\n",
        "# 2. Median\n",
        "# The median() function calculates the median (middle value) of data.\n",
        "# The median is the value separating the higher half from the lower half of a data sample.\n",
        "\n",
        "median_value = statistics.median(data)\n",
        "print(f\"Median: {median_value}\")\n"
      ]
    },
    {
      "cell_type": "code",
      "execution_count": null,
      "id": "37e0d0f3",
      "metadata": {
        "colab": {
          "base_uri": "https://localhost:8080/"
        },
        "id": "37e0d0f3",
        "outputId": "8e5b5a34-473b-4621-f38a-0c0448a8e452"
      },
      "outputs": [
        {
          "output_type": "stream",
          "name": "stdout",
          "text": [
            "Mode: 8\n"
          ]
        }
      ],
      "source": [
        "\n",
        "# 3. Mode\n",
        "# The mode() function finds the most common value in the data.\n",
        "# The mode is the value that appears most frequently in the data set.\n",
        "\n",
        "mode_value = statistics.mode(data_with_duplicates)\n",
        "print(f\"Mode: {mode_value}\")\n"
      ]
    },
    {
      "cell_type": "code",
      "execution_count": null,
      "id": "39fd28a1",
      "metadata": {
        "colab": {
          "base_uri": "https://localhost:8080/"
        },
        "id": "39fd28a1",
        "outputId": "9ed9f59f-d17c-4e5a-cccb-e27156cb0337"
      },
      "outputs": [
        {
          "output_type": "stream",
          "name": "stdout",
          "text": [
            "Standard Deviation: 3.0276503540974917\n"
          ]
        }
      ],
      "source": [
        "\n",
        "# 4. Standard Deviation\n",
        "# The stdev() function calculates the standard deviation of data.\n",
        "# The standard deviation is a measure of the amount of variation or dispersion in a set of values.\n",
        "\n",
        "stdev_value = statistics.stdev(data)\n",
        "print(f\"Standard Deviation: {stdev_value}\")\n"
      ]
    },
    {
      "cell_type": "code",
      "source": [],
      "metadata": {
        "id": "hccb7D1TjLd_"
      },
      "id": "hccb7D1TjLd_",
      "execution_count": null,
      "outputs": []
    },
    {
      "cell_type": "code",
      "source": [
        "\n",
        "\n",
        "How `statistics.stdev(data)` calculates the standard deviation.\n",
        "\n",
        "**1. Calculate the Mean:**\n",
        "\n",
        "   - The function first computes the arithmetic mean (average) of the data. You've already seen this in your code with `statistics.mean(data)`.\n",
        "\n",
        "**2. Find the Squared Differences:**\n",
        "\n",
        "   - For each data point in your list (`data`), it subtracts the mean from that data point. This gives you the difference between each data point and the average.\n",
        "   - Then, it squares each of these differences. This is done to ensure that both positive and negative deviations contribute equally to the overall variability.\n",
        "\n",
        "**3. Calculate the Variance:**\n",
        "\n",
        "   - The variance is the average of these squared differences. It's computed by summing up all the squared differences and then dividing by the number\n",
        "    of data points (or `n - 1` for sample standard deviation). The `statistics.stdev()` function uses `n - 1` by default, which is the sample standard\n",
        "     deviation and is more accurate for smaller datasets where you're trying to estimate the population standard deviation.\n",
        "\n",
        "**4. Take the Square Root:**\n",
        "\n",
        "   - Finally, it takes the square root of the variance. This gives you the standard deviation, which is a measure of how spread out the data is around the mean.\n",
        "\n",
        "\n",
        "**In simpler terms:**\n",
        "\n",
        "The standard deviation measures how much the data points typically deviate from the average. A larger standard deviation means the data is more spread out, while a smaller standard deviation means the data is more clustered around the average.\n",
        "\n",
        "\n",
        "**Example:**\n",
        "\n",
        "Let's say your data is `[2, 4, 6]`.\n",
        "\n",
        "1. **Mean:** (2 + 4 + 6) / 3 = 4\n",
        "2. **Squared Differences:**\n",
        "   - (2 - 4)^2 = 4\n",
        "   - (4 - 4)^2 = 0\n",
        "   - (6 - 4)^2 = 4\n",
        "3. **Variance:** (4 + 0 + 4) / (3 - 1) = 4\n",
        "4. **Standard Deviation:** √4 = 2\n",
        "\n"
      ],
      "metadata": {
        "id": "Ps7CDRcaizBp"
      },
      "id": "Ps7CDRcaizBp",
      "execution_count": null,
      "outputs": []
    },
    {
      "cell_type": "code",
      "execution_count": null,
      "id": "3c94c2f0",
      "metadata": {
        "colab": {
          "base_uri": "https://localhost:8080/"
        },
        "id": "3c94c2f0",
        "outputId": "52a9c926-3b40-486f-9ea4-bea3a25d72d6"
      },
      "outputs": [
        {
          "output_type": "stream",
          "name": "stdout",
          "text": [
            "Variance: 9.166666666666666\n"
          ]
        }
      ],
      "source": [
        "\n",
        "# 5. Variance\n",
        "# The variance() function calculates the variance of data.\n",
        "# The variance is the expectation of the squared deviation of a random variable from its mean.\n",
        "\n",
        "variance_value = statistics.variance(data)\n",
        "print(f\"Variance: {variance_value}\")\n"
      ]
    },
    {
      "cell_type": "code",
      "execution_count": null,
      "id": "d609e015",
      "metadata": {
        "colab": {
          "base_uri": "https://localhost:8080/"
        },
        "id": "d609e015",
        "outputId": "bf7247cd-96be-40a0-be9e-52fe2f20bce8"
      },
      "outputs": [
        {
          "output_type": "stream",
          "name": "stdout",
          "text": [
            "Median Low: 6\n"
          ]
        }
      ],
      "source": [
        "\n",
        "# 6. Median Low\n",
        "# The median_low() function finds the low median of data.\n",
        "# The low median is the lower of two middle values if the data size is even.\n",
        "\n",
        "median_low_value = statistics.median_low(data)\n",
        "print(f\"Median Low: {median_low_value}\")\n"
      ]
    },
    {
      "cell_type": "code",
      "execution_count": null,
      "id": "f67a0986",
      "metadata": {
        "colab": {
          "base_uri": "https://localhost:8080/"
        },
        "id": "f67a0986",
        "outputId": "d9084a98-3f9f-4e7b-fb7f-55c8169a0f69"
      },
      "outputs": [
        {
          "output_type": "stream",
          "name": "stdout",
          "text": [
            "Median High: 7\n"
          ]
        }
      ],
      "source": [
        "\n",
        "# 7. Median High\n",
        "# The median_high() function finds the high median of data.\n",
        "# The high median is the higher of two middle values if the data size is even.\n",
        "\n",
        "median_high_value = statistics.median_high(data)\n",
        "print(f\"Median High: {median_high_value}\")\n"
      ]
    },
    {
      "cell_type": "code",
      "execution_count": null,
      "id": "bdcaaa4c",
      "metadata": {
        "colab": {
          "base_uri": "https://localhost:8080/"
        },
        "id": "bdcaaa4c",
        "outputId": "c1b86bba-222f-4f8d-9191-7c944ef2d616"
      },
      "outputs": [
        {
          "output_type": "stream",
          "name": "stdout",
          "text": [
            "Median Grouped: 6.5\n"
          ]
        }
      ],
      "source": [
        "\n",
        "# 8. Median Grouped\n",
        "# The median_grouped() function estimates the median of grouped continuous data.\n",
        "# It is useful for data presented in the form of a frequency distribution.\n",
        "\n",
        "median_grouped_value = statistics.median_grouped(data)\n",
        "print(f\"Median Grouped: {median_grouped_value}\")\n"
      ]
    },
    {
      "cell_type": "code",
      "execution_count": null,
      "id": "dbcedefa",
      "metadata": {
        "colab": {
          "base_uri": "https://localhost:8080/"
        },
        "id": "dbcedefa",
        "outputId": "874eefb3-cfdb-48c2-98a9-681c3a3c7afa"
      },
      "outputs": [
        {
          "output_type": "stream",
          "name": "stdout",
          "text": [
            "Harmonic Mean: 4.950795663588791\n"
          ]
        }
      ],
      "source": [
        "\n",
        "# 9. Harmonic Mean\n",
        "# The harmonic_mean() function calculates the harmonic mean of data.\n",
        "# The harmonic mean is the reciprocal of the arithmetic mean of the reciprocals of the data.\n",
        "\n",
        "harmonic_mean_value = statistics.harmonic_mean(data)\n",
        "print(f\"Harmonic Mean: {harmonic_mean_value}\")\n"
      ]
    },
    {
      "cell_type": "code",
      "execution_count": null,
      "id": "6b23ef16",
      "metadata": {
        "colab": {
          "base_uri": "https://localhost:8080/"
        },
        "id": "6b23ef16",
        "outputId": "efa0c2ec-be00-4172-f723-4dcdc1fc9486"
      },
      "outputs": [
        {
          "output_type": "stream",
          "name": "stdout",
          "text": [
            "Geometric Mean: 5.755930902871147\n"
          ]
        }
      ],
      "source": [
        "\n",
        "# 10. Geometric Mean\n",
        "# The geometric_mean() function calculates the geometric mean of data.\n",
        "# The geometric mean is the nth root of the product of n numbers, useful for data with exponential growth.\n",
        "\n",
        "geometric_mean_value = statistics.geometric_mean(data)\n",
        "print(f\"Geometric Mean: {geometric_mean_value}\")\n"
      ]
    },
    {
      "cell_type": "code",
      "execution_count": null,
      "id": "ca77bc1e",
      "metadata": {
        "colab": {
          "base_uri": "https://localhost:8080/"
        },
        "id": "ca77bc1e",
        "outputId": "cf76469f-2cd7-485a-85a0-33ac3238fb94"
      },
      "outputs": [
        {
          "output_type": "stream",
          "name": "stdout",
          "text": [
            "Population Variance: 8.25\n"
          ]
        }
      ],
      "source": [
        "\n",
        "# 11. Pvariance (Population Variance)\n",
        "# The pvariance() function calculates the population variance of data.\n",
        "# The population variance measures the spread of data points in a population.\n",
        "\n",
        "pvariance_value = statistics.pvariance(data)\n",
        "print(f\"Population Variance: {pvariance_value}\")\n"
      ]
    },
    {
      "cell_type": "code",
      "execution_count": null,
      "id": "5ac2696d",
      "metadata": {
        "colab": {
          "base_uri": "https://localhost:8080/"
        },
        "id": "5ac2696d",
        "outputId": "19a0accf-09d0-450d-9b88-6cf15e6dfd33"
      },
      "outputs": [
        {
          "output_type": "stream",
          "name": "stdout",
          "text": [
            "Population Standard Deviation: 2.8722813232690143\n"
          ]
        }
      ],
      "source": [
        "\n",
        "# 12. Pstdev (Population Standard Deviation)\n",
        "# The pstdev() function calculates the population standard deviation of data.\n",
        "# The population standard deviation measures the dispersion of a dataset relative to its mean.\n",
        "\n",
        "pstdev_value = statistics.pstdev(data)\n",
        "print(f\"Population Standard Deviation: {pstdev_value}\")\n"
      ]
    },
    {
      "cell_type": "code",
      "execution_count": null,
      "id": "dfd62a87",
      "metadata": {
        "colab": {
          "base_uri": "https://localhost:8080/"
        },
        "id": "dfd62a87",
        "outputId": "c4fcd2ce-ea37-4d5a-e734-eab1dd680f6c"
      },
      "outputs": [
        {
          "output_type": "stream",
          "name": "stdout",
          "text": [
            "Quantiles: [3.75, 6.5, 9.25]\n"
          ]
        }
      ],
      "source": [
        "\n",
        "# 13. Quantiles\n",
        "# The quantiles() function divides data into intervals with equal probability.\n",
        "# It is useful for understanding the distribution of data.\n",
        "\n",
        "quantiles_value = statistics.quantiles(data, n=4)\n",
        "print(f\"Quantiles: {quantiles_value}\")\n"
      ]
    },
    {
      "cell_type": "code",
      "execution_count": null,
      "id": "1b67c838",
      "metadata": {
        "colab": {
          "base_uri": "https://localhost:8080/"
        },
        "id": "1b67c838",
        "outputId": "9c95018d-a7fa-44f2-fe25-aaa9b014aa02"
      },
      "outputs": [
        {
          "output_type": "stream",
          "name": "stdout",
          "text": [
            "Floating Point Mean: 6.5\n"
          ]
        }
      ],
      "source": [
        "\n",
        "# 14. Fmean (Floating Point Mean)\n",
        "# The fmean() function calculates the floating point mean of data.\n",
        "# It is similar to the mean() function but avoids loss of precision for large datasets.\n",
        "\n",
        "fmean_value = statistics.fmean(data)\n",
        "print(f\"Floating Point Mean: {fmean_value}\")\n"
      ]
    },
    {
      "cell_type": "code",
      "execution_count": null,
      "id": "44f7e74e",
      "metadata": {
        "colab": {
          "base_uri": "https://localhost:8080/"
        },
        "id": "44f7e74e",
        "outputId": "5497a1ad-901f-4290-d13d-bc136bb1ae14"
      },
      "outputs": [
        {
          "output_type": "stream",
          "name": "stdout",
          "text": [
            "Multimode: [8]\n"
          ]
        }
      ],
      "source": [
        "\n",
        "# 15. Multimode\n",
        "# The multimode() function finds the most common values in the data.\n",
        "# It returns a list of the modes if there are multiple values with the same highest frequency.\n",
        "\n",
        "multimode_value = statistics.multimode(data_with_duplicates)\n",
        "print(f\"Multimode: {multimode_value}\")\n"
      ]
    },
    {
      "source": [
        "# 15. Create a dictionary to capture all results\n",
        "results = {\n",
        "    \"Mean\": statistics.mean(data),\n",
        "    \"Median\": statistics.median(data),\n",
        "    \"Mode\": statistics.mode(data_with_duplicates),\n",
        "    \"Standard Deviation\": statistics.stdev(data),\n",
        "    \"Variance\": statistics.variance(data),\n",
        "    \"Median Low\": statistics.median_low(data),\n",
        "    \"Median High\": statistics.median_high(data),\n",
        "    \"Median Grouped\": statistics.median_grouped(data),\n",
        "    \"Harmonic Mean\": statistics.harmonic_mean(data),\n",
        "    \"Geometric Mean\": statistics.geometric_mean(data),\n",
        "    \"Population Variance\": statistics.pvariance(data),\n",
        "    \"Population Standard Deviation\": statistics.pstdev(data),\n",
        "    \"Quantiles\": statistics.quantiles(data, n=4),\n",
        "    \"Floating Point Mean\": statistics.fmean(data),\n",
        "    \"Multimode\": statistics.multimode(data_with_duplicates)\n",
        "}\n",
        "\n",
        "# Convert results to a DataFrame for better readability\n",
        "results_df = pd.DataFrame(list(results.items()), columns=[\"Statistic\", \"Value\"])\n",
        "\n",
        "# import ace_tools as tools; tools.display_dataframe_to_user(name=\"Statistics Functions Results\", dataframe=results_df)\n",
        "# The line above has been commented out because the ace_tools module was not found.  Use the pandas display function instead.\n",
        "display(results_df)"
      ],
      "cell_type": "code",
      "metadata": {
        "colab": {
          "base_uri": "https://localhost:8080/",
          "height": 520
        },
        "id": "uL7UjFqnjfoQ",
        "outputId": "8646d907-63b0-41e8-f389-30dca9ae9c79"
      },
      "id": "uL7UjFqnjfoQ",
      "execution_count": null,
      "outputs": [
        {
          "output_type": "display_data",
          "data": {
            "text/plain": [
              "                        Statistic              Value\n",
              "0                            Mean                6.5\n",
              "1                          Median                6.5\n",
              "2                            Mode                  8\n",
              "3              Standard Deviation            3.02765\n",
              "4                        Variance           9.166667\n",
              "5                      Median Low                  6\n",
              "6                     Median High                  7\n",
              "7                  Median Grouped                6.5\n",
              "8                   Harmonic Mean           4.950796\n",
              "9                  Geometric Mean           5.755931\n",
              "10            Population Variance               8.25\n",
              "11  Population Standard Deviation           2.872281\n",
              "12                      Quantiles  [3.75, 6.5, 9.25]\n",
              "13            Floating Point Mean                6.5\n",
              "14                      Multimode                [8]"
            ],
            "text/html": [
              "\n",
              "  <div id=\"df-92657a7d-1c3f-4896-b8db-60353b8324e3\" class=\"colab-df-container\">\n",
              "    <div>\n",
              "<style scoped>\n",
              "    .dataframe tbody tr th:only-of-type {\n",
              "        vertical-align: middle;\n",
              "    }\n",
              "\n",
              "    .dataframe tbody tr th {\n",
              "        vertical-align: top;\n",
              "    }\n",
              "\n",
              "    .dataframe thead th {\n",
              "        text-align: right;\n",
              "    }\n",
              "</style>\n",
              "<table border=\"1\" class=\"dataframe\">\n",
              "  <thead>\n",
              "    <tr style=\"text-align: right;\">\n",
              "      <th></th>\n",
              "      <th>Statistic</th>\n",
              "      <th>Value</th>\n",
              "    </tr>\n",
              "  </thead>\n",
              "  <tbody>\n",
              "    <tr>\n",
              "      <th>0</th>\n",
              "      <td>Mean</td>\n",
              "      <td>6.5</td>\n",
              "    </tr>\n",
              "    <tr>\n",
              "      <th>1</th>\n",
              "      <td>Median</td>\n",
              "      <td>6.5</td>\n",
              "    </tr>\n",
              "    <tr>\n",
              "      <th>2</th>\n",
              "      <td>Mode</td>\n",
              "      <td>8</td>\n",
              "    </tr>\n",
              "    <tr>\n",
              "      <th>3</th>\n",
              "      <td>Standard Deviation</td>\n",
              "      <td>3.02765</td>\n",
              "    </tr>\n",
              "    <tr>\n",
              "      <th>4</th>\n",
              "      <td>Variance</td>\n",
              "      <td>9.166667</td>\n",
              "    </tr>\n",
              "    <tr>\n",
              "      <th>5</th>\n",
              "      <td>Median Low</td>\n",
              "      <td>6</td>\n",
              "    </tr>\n",
              "    <tr>\n",
              "      <th>6</th>\n",
              "      <td>Median High</td>\n",
              "      <td>7</td>\n",
              "    </tr>\n",
              "    <tr>\n",
              "      <th>7</th>\n",
              "      <td>Median Grouped</td>\n",
              "      <td>6.5</td>\n",
              "    </tr>\n",
              "    <tr>\n",
              "      <th>8</th>\n",
              "      <td>Harmonic Mean</td>\n",
              "      <td>4.950796</td>\n",
              "    </tr>\n",
              "    <tr>\n",
              "      <th>9</th>\n",
              "      <td>Geometric Mean</td>\n",
              "      <td>5.755931</td>\n",
              "    </tr>\n",
              "    <tr>\n",
              "      <th>10</th>\n",
              "      <td>Population Variance</td>\n",
              "      <td>8.25</td>\n",
              "    </tr>\n",
              "    <tr>\n",
              "      <th>11</th>\n",
              "      <td>Population Standard Deviation</td>\n",
              "      <td>2.872281</td>\n",
              "    </tr>\n",
              "    <tr>\n",
              "      <th>12</th>\n",
              "      <td>Quantiles</td>\n",
              "      <td>[3.75, 6.5, 9.25]</td>\n",
              "    </tr>\n",
              "    <tr>\n",
              "      <th>13</th>\n",
              "      <td>Floating Point Mean</td>\n",
              "      <td>6.5</td>\n",
              "    </tr>\n",
              "    <tr>\n",
              "      <th>14</th>\n",
              "      <td>Multimode</td>\n",
              "      <td>[8]</td>\n",
              "    </tr>\n",
              "  </tbody>\n",
              "</table>\n",
              "</div>\n",
              "    <div class=\"colab-df-buttons\">\n",
              "\n",
              "  <div class=\"colab-df-container\">\n",
              "    <button class=\"colab-df-convert\" onclick=\"convertToInteractive('df-92657a7d-1c3f-4896-b8db-60353b8324e3')\"\n",
              "            title=\"Convert this dataframe to an interactive table.\"\n",
              "            style=\"display:none;\">\n",
              "\n",
              "  <svg xmlns=\"http://www.w3.org/2000/svg\" height=\"24px\" viewBox=\"0 -960 960 960\">\n",
              "    <path d=\"M120-120v-720h720v720H120Zm60-500h600v-160H180v160Zm220 220h160v-160H400v160Zm0 220h160v-160H400v160ZM180-400h160v-160H180v160Zm440 0h160v-160H620v160ZM180-180h160v-160H180v160Zm440 0h160v-160H620v160Z\"/>\n",
              "  </svg>\n",
              "    </button>\n",
              "\n",
              "  <style>\n",
              "    .colab-df-container {\n",
              "      display:flex;\n",
              "      gap: 12px;\n",
              "    }\n",
              "\n",
              "    .colab-df-convert {\n",
              "      background-color: #E8F0FE;\n",
              "      border: none;\n",
              "      border-radius: 50%;\n",
              "      cursor: pointer;\n",
              "      display: none;\n",
              "      fill: #1967D2;\n",
              "      height: 32px;\n",
              "      padding: 0 0 0 0;\n",
              "      width: 32px;\n",
              "    }\n",
              "\n",
              "    .colab-df-convert:hover {\n",
              "      background-color: #E2EBFA;\n",
              "      box-shadow: 0px 1px 2px rgba(60, 64, 67, 0.3), 0px 1px 3px 1px rgba(60, 64, 67, 0.15);\n",
              "      fill: #174EA6;\n",
              "    }\n",
              "\n",
              "    .colab-df-buttons div {\n",
              "      margin-bottom: 4px;\n",
              "    }\n",
              "\n",
              "    [theme=dark] .colab-df-convert {\n",
              "      background-color: #3B4455;\n",
              "      fill: #D2E3FC;\n",
              "    }\n",
              "\n",
              "    [theme=dark] .colab-df-convert:hover {\n",
              "      background-color: #434B5C;\n",
              "      box-shadow: 0px 1px 3px 1px rgba(0, 0, 0, 0.15);\n",
              "      filter: drop-shadow(0px 1px 2px rgba(0, 0, 0, 0.3));\n",
              "      fill: #FFFFFF;\n",
              "    }\n",
              "  </style>\n",
              "\n",
              "    <script>\n",
              "      const buttonEl =\n",
              "        document.querySelector('#df-92657a7d-1c3f-4896-b8db-60353b8324e3 button.colab-df-convert');\n",
              "      buttonEl.style.display =\n",
              "        google.colab.kernel.accessAllowed ? 'block' : 'none';\n",
              "\n",
              "      async function convertToInteractive(key) {\n",
              "        const element = document.querySelector('#df-92657a7d-1c3f-4896-b8db-60353b8324e3');\n",
              "        const dataTable =\n",
              "          await google.colab.kernel.invokeFunction('convertToInteractive',\n",
              "                                                    [key], {});\n",
              "        if (!dataTable) return;\n",
              "\n",
              "        const docLinkHtml = 'Like what you see? Visit the ' +\n",
              "          '<a target=\"_blank\" href=https://colab.research.google.com/notebooks/data_table.ipynb>data table notebook</a>'\n",
              "          + ' to learn more about interactive tables.';\n",
              "        element.innerHTML = '';\n",
              "        dataTable['output_type'] = 'display_data';\n",
              "        await google.colab.output.renderOutput(dataTable, element);\n",
              "        const docLink = document.createElement('div');\n",
              "        docLink.innerHTML = docLinkHtml;\n",
              "        element.appendChild(docLink);\n",
              "      }\n",
              "    </script>\n",
              "  </div>\n",
              "\n",
              "\n",
              "<div id=\"df-970f6f9b-25ec-4ebf-b137-53b03a3f3444\">\n",
              "  <button class=\"colab-df-quickchart\" onclick=\"quickchart('df-970f6f9b-25ec-4ebf-b137-53b03a3f3444')\"\n",
              "            title=\"Suggest charts\"\n",
              "            style=\"display:none;\">\n",
              "\n",
              "<svg xmlns=\"http://www.w3.org/2000/svg\" height=\"24px\"viewBox=\"0 0 24 24\"\n",
              "     width=\"24px\">\n",
              "    <g>\n",
              "        <path d=\"M19 3H5c-1.1 0-2 .9-2 2v14c0 1.1.9 2 2 2h14c1.1 0 2-.9 2-2V5c0-1.1-.9-2-2-2zM9 17H7v-7h2v7zm4 0h-2V7h2v10zm4 0h-2v-4h2v4z\"/>\n",
              "    </g>\n",
              "</svg>\n",
              "  </button>\n",
              "\n",
              "<style>\n",
              "  .colab-df-quickchart {\n",
              "      --bg-color: #E8F0FE;\n",
              "      --fill-color: #1967D2;\n",
              "      --hover-bg-color: #E2EBFA;\n",
              "      --hover-fill-color: #174EA6;\n",
              "      --disabled-fill-color: #AAA;\n",
              "      --disabled-bg-color: #DDD;\n",
              "  }\n",
              "\n",
              "  [theme=dark] .colab-df-quickchart {\n",
              "      --bg-color: #3B4455;\n",
              "      --fill-color: #D2E3FC;\n",
              "      --hover-bg-color: #434B5C;\n",
              "      --hover-fill-color: #FFFFFF;\n",
              "      --disabled-bg-color: #3B4455;\n",
              "      --disabled-fill-color: #666;\n",
              "  }\n",
              "\n",
              "  .colab-df-quickchart {\n",
              "    background-color: var(--bg-color);\n",
              "    border: none;\n",
              "    border-radius: 50%;\n",
              "    cursor: pointer;\n",
              "    display: none;\n",
              "    fill: var(--fill-color);\n",
              "    height: 32px;\n",
              "    padding: 0;\n",
              "    width: 32px;\n",
              "  }\n",
              "\n",
              "  .colab-df-quickchart:hover {\n",
              "    background-color: var(--hover-bg-color);\n",
              "    box-shadow: 0 1px 2px rgba(60, 64, 67, 0.3), 0 1px 3px 1px rgba(60, 64, 67, 0.15);\n",
              "    fill: var(--button-hover-fill-color);\n",
              "  }\n",
              "\n",
              "  .colab-df-quickchart-complete:disabled,\n",
              "  .colab-df-quickchart-complete:disabled:hover {\n",
              "    background-color: var(--disabled-bg-color);\n",
              "    fill: var(--disabled-fill-color);\n",
              "    box-shadow: none;\n",
              "  }\n",
              "\n",
              "  .colab-df-spinner {\n",
              "    border: 2px solid var(--fill-color);\n",
              "    border-color: transparent;\n",
              "    border-bottom-color: var(--fill-color);\n",
              "    animation:\n",
              "      spin 1s steps(1) infinite;\n",
              "  }\n",
              "\n",
              "  @keyframes spin {\n",
              "    0% {\n",
              "      border-color: transparent;\n",
              "      border-bottom-color: var(--fill-color);\n",
              "      border-left-color: var(--fill-color);\n",
              "    }\n",
              "    20% {\n",
              "      border-color: transparent;\n",
              "      border-left-color: var(--fill-color);\n",
              "      border-top-color: var(--fill-color);\n",
              "    }\n",
              "    30% {\n",
              "      border-color: transparent;\n",
              "      border-left-color: var(--fill-color);\n",
              "      border-top-color: var(--fill-color);\n",
              "      border-right-color: var(--fill-color);\n",
              "    }\n",
              "    40% {\n",
              "      border-color: transparent;\n",
              "      border-right-color: var(--fill-color);\n",
              "      border-top-color: var(--fill-color);\n",
              "    }\n",
              "    60% {\n",
              "      border-color: transparent;\n",
              "      border-right-color: var(--fill-color);\n",
              "    }\n",
              "    80% {\n",
              "      border-color: transparent;\n",
              "      border-right-color: var(--fill-color);\n",
              "      border-bottom-color: var(--fill-color);\n",
              "    }\n",
              "    90% {\n",
              "      border-color: transparent;\n",
              "      border-bottom-color: var(--fill-color);\n",
              "    }\n",
              "  }\n",
              "</style>\n",
              "\n",
              "  <script>\n",
              "    async function quickchart(key) {\n",
              "      const quickchartButtonEl =\n",
              "        document.querySelector('#' + key + ' button');\n",
              "      quickchartButtonEl.disabled = true;  // To prevent multiple clicks.\n",
              "      quickchartButtonEl.classList.add('colab-df-spinner');\n",
              "      try {\n",
              "        const charts = await google.colab.kernel.invokeFunction(\n",
              "            'suggestCharts', [key], {});\n",
              "      } catch (error) {\n",
              "        console.error('Error during call to suggestCharts:', error);\n",
              "      }\n",
              "      quickchartButtonEl.classList.remove('colab-df-spinner');\n",
              "      quickchartButtonEl.classList.add('colab-df-quickchart-complete');\n",
              "    }\n",
              "    (() => {\n",
              "      let quickchartButtonEl =\n",
              "        document.querySelector('#df-970f6f9b-25ec-4ebf-b137-53b03a3f3444 button');\n",
              "      quickchartButtonEl.style.display =\n",
              "        google.colab.kernel.accessAllowed ? 'block' : 'none';\n",
              "    })();\n",
              "  </script>\n",
              "</div>\n",
              "\n",
              "  <div id=\"id_b8a3f8a4-bea4-433d-8e85-4dec7f34cc4d\">\n",
              "    <style>\n",
              "      .colab-df-generate {\n",
              "        background-color: #E8F0FE;\n",
              "        border: none;\n",
              "        border-radius: 50%;\n",
              "        cursor: pointer;\n",
              "        display: none;\n",
              "        fill: #1967D2;\n",
              "        height: 32px;\n",
              "        padding: 0 0 0 0;\n",
              "        width: 32px;\n",
              "      }\n",
              "\n",
              "      .colab-df-generate:hover {\n",
              "        background-color: #E2EBFA;\n",
              "        box-shadow: 0px 1px 2px rgba(60, 64, 67, 0.3), 0px 1px 3px 1px rgba(60, 64, 67, 0.15);\n",
              "        fill: #174EA6;\n",
              "      }\n",
              "\n",
              "      [theme=dark] .colab-df-generate {\n",
              "        background-color: #3B4455;\n",
              "        fill: #D2E3FC;\n",
              "      }\n",
              "\n",
              "      [theme=dark] .colab-df-generate:hover {\n",
              "        background-color: #434B5C;\n",
              "        box-shadow: 0px 1px 3px 1px rgba(0, 0, 0, 0.15);\n",
              "        filter: drop-shadow(0px 1px 2px rgba(0, 0, 0, 0.3));\n",
              "        fill: #FFFFFF;\n",
              "      }\n",
              "    </style>\n",
              "    <button class=\"colab-df-generate\" onclick=\"generateWithVariable('results_df')\"\n",
              "            title=\"Generate code using this dataframe.\"\n",
              "            style=\"display:none;\">\n",
              "\n",
              "  <svg xmlns=\"http://www.w3.org/2000/svg\" height=\"24px\"viewBox=\"0 0 24 24\"\n",
              "       width=\"24px\">\n",
              "    <path d=\"M7,19H8.4L18.45,9,17,7.55,7,17.6ZM5,21V16.75L18.45,3.32a2,2,0,0,1,2.83,0l1.4,1.43a1.91,1.91,0,0,1,.58,1.4,1.91,1.91,0,0,1-.58,1.4L9.25,21ZM18.45,9,17,7.55Zm-12,3A5.31,5.31,0,0,0,4.9,8.1,5.31,5.31,0,0,0,1,6.5,5.31,5.31,0,0,0,4.9,4.9,5.31,5.31,0,0,0,6.5,1,5.31,5.31,0,0,0,8.1,4.9,5.31,5.31,0,0,0,12,6.5,5.46,5.46,0,0,0,6.5,12Z\"/>\n",
              "  </svg>\n",
              "    </button>\n",
              "    <script>\n",
              "      (() => {\n",
              "      const buttonEl =\n",
              "        document.querySelector('#id_b8a3f8a4-bea4-433d-8e85-4dec7f34cc4d button.colab-df-generate');\n",
              "      buttonEl.style.display =\n",
              "        google.colab.kernel.accessAllowed ? 'block' : 'none';\n",
              "\n",
              "      buttonEl.onclick = () => {\n",
              "        google.colab.notebook.generateWithVariable('results_df');\n",
              "      }\n",
              "      })();\n",
              "    </script>\n",
              "  </div>\n",
              "\n",
              "    </div>\n",
              "  </div>\n"
            ],
            "application/vnd.google.colaboratory.intrinsic+json": {
              "type": "dataframe",
              "variable_name": "results_df",
              "summary": "{\n  \"name\": \"results_df\",\n  \"rows\": 15,\n  \"fields\": [\n    {\n      \"column\": \"Statistic\",\n      \"properties\": {\n        \"dtype\": \"string\",\n        \"num_unique_values\": 15,\n        \"samples\": [\n          \"Geometric Mean\",\n          \"Population Standard Deviation\",\n          \"Mean\"\n        ],\n        \"semantic_type\": \"\",\n        \"description\": \"\"\n      }\n    },\n    {\n      \"column\": \"Value\",\n      \"properties\": {\n        \"dtype\": \"object\",\n        \"semantic_type\": \"\",\n        \"description\": \"\"\n      }\n    }\n  ]\n}"
            }
          },
          "metadata": {}
        }
      ]
    },
    {
      "cell_type": "code",
      "source": [],
      "metadata": {
        "id": "9OeYsEmkjgai"
      },
      "id": "9OeYsEmkjgai",
      "execution_count": null,
      "outputs": []
    }
  ],
  "metadata": {
    "colab": {
      "provenance": []
    },
    "language_info": {
      "name": "python"
    },
    "kernelspec": {
      "name": "python3",
      "display_name": "Python 3"
    }
  },
  "nbformat": 4,
  "nbformat_minor": 5
}